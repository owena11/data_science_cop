{
 "cells": [
  {
   "cell_type": "markdown",
   "id": "f238e8e8-e5e4-4bbb-b888-fc1864855125",
   "metadata": {},
   "source": [
    "# Design Pattern 8 (Chapter 3) - Cascade"
   ]
  },
  {
   "cell_type": "markdown",
   "id": "23b59ac7-4bf4-48b2-99ca-2fb081742946",
   "metadata": {},
   "source": [
    "## Introduction to Design Pattern"
   ]
  },
  {
   "cell_type": "markdown",
   "id": "2d28eab2-3203-4859-8e08-260048bdd62a",
   "metadata": {},
   "source": [
    "The design pattern 'Cascade' focuses on the combination of multiple models in succession, rather than including using them in tandem such as the 'Ensemble' design pattern.\n",
    "\n",
    "<div>\n",
    "<center><img src=\"Images/cascade/Cascade_flow.png\" width=\"300\" alt=\"cascade overview\" /></center>\n",
    "</div>\n",
    "\n",
    "This pattern is introduced with....\n",
    "\n",
    "<div>\n",
    "    <center><h1> <font color='red'> BIG WARNING FLAGS  </h1> </font> </entre>\n",
    "</div>\n",
    "\n",
    "The book recommends limiting the usage of this pattern as it is diffcult to maintain consitency between two independant models. To solve this the book recommends maintaining a 'Pipeline' (Chapter 6) to ensure consistent retraining of dependant models when any model within the system changes."
   ]
  },
  {
   "cell_type": "markdown",
   "id": "ac215956-f588-4775-9169-1a1c755c53cc",
   "metadata": {},
   "source": [
    "This pattern is useful where there is a confounding factor we wish to represent within our problem to improve the 'learnability' of the problem. And/Or where we have a large class imbalance and the introduction of an intermediate factor could also help improve 'learnablilty'.\n",
    "\n",
    "\n",
    "\n",
    "- Confounding factor - Different user types are referenced several times within the chapter as an example confounding factor. Here we have an intuition for their differing behaviour and how it will be related to the differing classes.\n",
    "\n",
    "- Class imbalance - Rainfall rate is used as an example in this case, with the algorithmn incentivised to predict a low value with the majority of grid boxes equalling zero.\n",
    "\n"
   ]
  },
  {
   "cell_type": "markdown",
   "id": "ef620add-f660-409b-95e9-fab6ed4305da",
   "metadata": {
    "jp-MarkdownHeadingCollapsed": true,
    "tags": []
   },
   "source": [
    "## Practical Considerations\n",
    "\n",
    "The book focuses on the practicalities of using the design pattern, particualy how the usage of a cascade pattern feeds into the data preperation. Highlighting that you're upstream model will likely not be preferect, and so the model that you train should be based on this imperfect division of the dataset to make the training data as close as possible to the running conditions in the real world, and expose each model to the true distributions of data it will come across. \n",
    "\n",
    "\n",
    "It presents the scenario where you might have a ground truth for your input dataset, such as 'Is it raining?' that it is tempting to divide your dataset into as though the upstream model leaving you with a prefect split of 'raining' and 'not raining'.\n",
    "\n",
    "<div>\n",
    "<center><img src=\"Images/cascade/perfect_datasets.png\" width=\"200\" alt=\"Idealised datasets\" /></center>\n",
    "</div>\n",
    "\n",
    "But instead you should incorperate the preformance of the upstream model in your generation of the datasets downstream:\n",
    "\n",
    "<div>\n",
    "<center><img src=\"Images/cascade/imperfect_datasets.png\" width=\"200\" alt=\"Realistic datasets\" /></center>\n",
    "</div>"
   ]
  },
  {
   "cell_type": "markdown",
   "id": "87e57d68-4891-4da6-9004-03ce467cc50d",
   "metadata": {},
   "source": [
    "## Soloutions\n",
    "\n",
    "Inorder to avoid using this design pattern it suggests several techniques that might help to you solve the same problem. The book proposes: \n",
    "- If the confounding variable is deterministic add it as an additional input variable.\n",
    "\n",
    "- Use Multimodal input if possible, to allow your model to caputre the confounding variable if it's avaliable.\n",
    "\n",
    "- Other class rebalancing techniques! (Some of which will be covered in over other chapters)"
   ]
  },
  {
   "cell_type": "markdown",
   "id": "5b8f07e1-7cb6-4958-bcd5-631d904e9620",
   "metadata": {
    "tags": []
   },
   "source": [
    "## Example python implementation"
   ]
  },
  {
   "cell_type": "code",
   "execution_count": 1,
   "id": "d20f315e-3758-4c89-a866-17c314760202",
   "metadata": {},
   "outputs": [],
   "source": [
    "## Pick your favourtie DAG framework here."
   ]
  }
 ],
 "metadata": {
  "kernelspec": {
   "display_name": "Python 3 (ipykernel)",
   "language": "python",
   "name": "python3"
  },
  "language_info": {
   "codemirror_mode": {
    "name": "ipython",
    "version": 3
   },
   "file_extension": ".py",
   "mimetype": "text/x-python",
   "name": "python",
   "nbconvert_exporter": "python",
   "pygments_lexer": "ipython3",
   "version": "3.8.0"
  }
 },
 "nbformat": 4,
 "nbformat_minor": 5
}
